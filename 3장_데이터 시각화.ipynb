{
 "cells": [
  {
   "cell_type": "code",
   "execution_count": 1,
   "id": "6af1b972",
   "metadata": {},
   "outputs": [
    {
     "name": "stdout",
     "output_type": "stream",
     "text": [
      "3.4.3\n"
     ]
    }
   ],
   "source": [
    "import pandas as pd\n",
    "\n",
    "import matplotlib as mpl\n",
    "from matplotlib import font_manager, rc\n",
    "import matplotlib.pyplot as plt\n",
    "import numpy as np\n",
    "import pandas as pd\n",
    "print(mpl.__version__)\n",
    "# seaborn 스타일 사용\n",
    "plt.style.use('seaborn-notebook')\n",
    "\n",
    "# matplotlib 그래프 한글폰트 깨질 때 대처(Mac & Window)\n",
    "import platform\n",
    "if platform.system() == 'Windows':\n",
    "# 윈도우인 경우\n",
    "    font_name = font_manager.FontProperties(fname=\"c:/Windows/Fonts/malgun.ttf\").get_name()\n",
    "    rc('font', family=font_name)\n",
    "else:    \n",
    "# Mac 인 경우\n",
    "    rc('font', family='AppleGothic')\n",
    "    \n",
    "# 그래프에서 마이너스 기호가 표시되도록 하는 설정\n",
    "mpl.rcParams['axes.unicode_minus'] = False\n",
    "\n",
    "import seaborn as sns\n",
    "import warnings\n",
    "warnings.filterwarnings('ignore')\n",
    "%matplotlib inline\n"
   ]
  },
  {
   "cell_type": "markdown",
   "id": "0bae1951",
   "metadata": {},
   "source": [
    "# 3.3 꺽은 선 그래프"
   ]
  },
  {
   "cell_type": "markdown",
   "id": "cff471c1",
   "metadata": {},
   "source": [
    "## 코로나 발생 주요국가 동향 꺽은 선 그래프 만들기"
   ]
  },
  {
   "cell_type": "code",
   "execution_count": 36,
   "id": "29cc836c",
   "metadata": {},
   "outputs": [],
   "source": [
    "data = pd.read_csv('data/주요발생국가주간동향(4월2째주).csv',index_col='국가')"
   ]
  },
  {
   "cell_type": "code",
   "execution_count": 37,
   "id": "c4880e67",
   "metadata": {},
   "outputs": [
    {
     "data": {
      "text/html": [
       "<div>\n",
       "<style scoped>\n",
       "    .dataframe tbody tr th:only-of-type {\n",
       "        vertical-align: middle;\n",
       "    }\n",
       "\n",
       "    .dataframe tbody tr th {\n",
       "        vertical-align: top;\n",
       "    }\n",
       "\n",
       "    .dataframe thead th {\n",
       "        text-align: right;\n",
       "    }\n",
       "</style>\n",
       "<table border=\"1\" class=\"dataframe\">\n",
       "  <thead>\n",
       "    <tr style=\"text-align: right;\">\n",
       "      <th></th>\n",
       "      <th>4월06일</th>\n",
       "      <th>4월07일</th>\n",
       "      <th>4월08일</th>\n",
       "      <th>4월09일</th>\n",
       "      <th>4월10일</th>\n",
       "      <th>4월11일</th>\n",
       "      <th>4월12일</th>\n",
       "    </tr>\n",
       "    <tr>\n",
       "      <th>국가</th>\n",
       "      <th></th>\n",
       "      <th></th>\n",
       "      <th></th>\n",
       "      <th></th>\n",
       "      <th></th>\n",
       "      <th></th>\n",
       "      <th></th>\n",
       "    </tr>\n",
       "  </thead>\n",
       "  <tbody>\n",
       "    <tr>\n",
       "      <th>미국</th>\n",
       "      <td>335524</td>\n",
       "      <td>364723</td>\n",
       "      <td>387547</td>\n",
       "      <td>424945</td>\n",
       "      <td>461437</td>\n",
       "      <td>495535</td>\n",
       "      <td>524903</td>\n",
       "    </tr>\n",
       "    <tr>\n",
       "      <th>스페인</th>\n",
       "      <td>130709</td>\n",
       "      <td>135032</td>\n",
       "      <td>140510</td>\n",
       "      <td>146690</td>\n",
       "      <td>152446</td>\n",
       "      <td>157022</td>\n",
       "      <td>161852</td>\n",
       "    </tr>\n",
       "    <tr>\n",
       "      <th>이탈리아</th>\n",
       "      <td>128948</td>\n",
       "      <td>132547</td>\n",
       "      <td>135586</td>\n",
       "      <td>139422</td>\n",
       "      <td>143626</td>\n",
       "      <td>147577</td>\n",
       "      <td>152271</td>\n",
       "    </tr>\n",
       "    <tr>\n",
       "      <th>독일</th>\n",
       "      <td>100024</td>\n",
       "      <td>102453</td>\n",
       "      <td>107591</td>\n",
       "      <td>112113</td>\n",
       "      <td>118181</td>\n",
       "      <td>122171</td>\n",
       "      <td>124908</td>\n",
       "    </tr>\n",
       "    <tr>\n",
       "      <th>프랑스</th>\n",
       "      <td>70478</td>\n",
       "      <td>74390</td>\n",
       "      <td>78167</td>\n",
       "      <td>82048</td>\n",
       "      <td>86334</td>\n",
       "      <td>90276</td>\n",
       "      <td>93790</td>\n",
       "    </tr>\n",
       "    <tr>\n",
       "      <th>중국</th>\n",
       "      <td>81708</td>\n",
       "      <td>81740</td>\n",
       "      <td>81802</td>\n",
       "      <td>81865</td>\n",
       "      <td>81907</td>\n",
       "      <td>81953</td>\n",
       "      <td>82052</td>\n",
       "    </tr>\n",
       "    <tr>\n",
       "      <th>영국</th>\n",
       "      <td>47806</td>\n",
       "      <td>51608</td>\n",
       "      <td>55242</td>\n",
       "      <td>60733</td>\n",
       "      <td>65077</td>\n",
       "      <td>73758</td>\n",
       "      <td>78991</td>\n",
       "    </tr>\n",
       "    <tr>\n",
       "      <th>이란</th>\n",
       "      <td>58226</td>\n",
       "      <td>60500</td>\n",
       "      <td>62589</td>\n",
       "      <td>64586</td>\n",
       "      <td>66220</td>\n",
       "      <td>68192</td>\n",
       "      <td>70029</td>\n",
       "    </tr>\n",
       "    <tr>\n",
       "      <th>스위스</th>\n",
       "      <td>21104</td>\n",
       "      <td>21652</td>\n",
       "      <td>22241</td>\n",
       "      <td>22789</td>\n",
       "      <td>23574</td>\n",
       "      <td>24308</td>\n",
       "      <td>24900</td>\n",
       "    </tr>\n",
       "    <tr>\n",
       "      <th>한국</th>\n",
       "      <td>10284</td>\n",
       "      <td>10331</td>\n",
       "      <td>10384</td>\n",
       "      <td>10423</td>\n",
       "      <td>10450</td>\n",
       "      <td>10480</td>\n",
       "      <td>10512</td>\n",
       "    </tr>\n",
       "  </tbody>\n",
       "</table>\n",
       "</div>"
      ],
      "text/plain": [
       "       4월06일   4월07일   4월08일   4월09일   4월10일   4월11일   4월12일\n",
       "국가                                                          \n",
       "미국    335524  364723  387547  424945  461437  495535  524903\n",
       "스페인   130709  135032  140510  146690  152446  157022  161852\n",
       "이탈리아  128948  132547  135586  139422  143626  147577  152271\n",
       "독일    100024  102453  107591  112113  118181  122171  124908\n",
       "프랑스    70478   74390   78167   82048   86334   90276   93790\n",
       "중국     81708   81740   81802   81865   81907   81953   82052\n",
       "영국     47806   51608   55242   60733   65077   73758   78991\n",
       "이란     58226   60500   62589   64586   66220   68192   70029\n",
       "스위스    21104   21652   22241   22789   23574   24308   24900\n",
       "한국     10284   10331   10384   10423   10450   10480   10512"
      ]
     },
     "execution_count": 37,
     "metadata": {},
     "output_type": "execute_result"
    }
   ],
   "source": [
    "data"
   ]
  },
  {
   "cell_type": "code",
   "execution_count": 12,
   "id": "70d4c513",
   "metadata": {},
   "outputs": [
    {
     "data": {
      "text/plain": [
       "0    335524\n",
       "1    130709\n",
       "2    128948\n",
       "3    100024\n",
       "4     70478\n",
       "5     81708\n",
       "6     47806\n",
       "7     58226\n",
       "8     21104\n",
       "9     10284\n",
       "Name: 4월06일, dtype: int64"
      ]
     },
     "execution_count": 12,
     "metadata": {},
     "output_type": "execute_result"
    }
   ],
   "source": [
    "chartdata = data['4월06일']\n",
    "chartdata"
   ]
  },
  {
   "cell_type": "code",
   "execution_count": 15,
   "id": "30b4bf73",
   "metadata": {},
   "outputs": [
    {
     "data": {
      "text/plain": [
       "[<matplotlib.lines.Line2D at 0x1a99ce0a5b0>]"
      ]
     },
     "execution_count": 15,
     "metadata": {},
     "output_type": "execute_result"
    },
    {
     "data": {
      "image/png": "[encoded data removed]",
      "text/plain": [
       "<Figure size 432x288 with 1 Axes>"
      ]
     },
     "metadata": {
      "needs_background": "light"
     },
     "output_type": "display_data"
    }
   ],
   "source": [
    "# series로 plot\n",
    "plt.plot(chartdata, color = 'blue', linestyle='solid', marker='o')"
   ]
  },
  {
   "cell_type": "code",
   "execution_count": 32,
   "id": "45cd93e8",
   "metadata": {},
   "outputs": [
    {
     "data": {
      "image/png": "[encoded data removed]",
      "text/plain": [
       "<Figure size 432x288 with 1 Axes>"
      ]
     },
     "metadata": {
      "needs_background": "light"
     },
     "output_type": "display_data"
    }
   ],
   "source": [
    "# y축 숫자 콤마로 지정\n",
    "YTICKS_INTERVAL = 50000\n",
    "maxlim = (int(chartdata.max() / YTICKS_INTERVAL) + 1) * YTICKS_INTERVAL\n",
    "values = np.arange(0, maxlim + 1, YTICKS_INTERVAL)\n",
    "plt.plot(chartdata, color = 'blue', linestyle='solid', marker='o')\n",
    "\n",
    "plt.yticks(values, ['%s' % format(val, ',') for val in values])\n",
    "\n",
    "plt.grid(True)\n",
    "plt.xlabel('국가명')\n",
    "plt.ylabel(\"발생 건수\")\n",
    "plt.title(\"4월 6일 코로나 발생 건수\")\n",
    "plt.show()"
   ]
  },
  {
   "cell_type": "code",
   "execution_count": null,
   "id": "ed5cb0af",
   "metadata": {},
   "outputs": [],
   "source": [
    "# datafrane으로 plot"
   ]
  },
  {
   "cell_type": "code",
   "execution_count": 41,
   "id": "df7f39c3",
   "metadata": {},
   "outputs": [],
   "source": [
    "COUNTRY = ['스페인', '프랑스', '독일', '중국', '영국', '이란']\n",
    "WHEN = ['4월06일', '4월07일', '4월08일', '4월09일', '4월10일']\n",
    "chartdata = data.loc[COUNTRY,WHEN]\n",
    "chartdata = chartdata.T"
   ]
  },
  {
   "cell_type": "code",
   "execution_count": 45,
   "id": "78d84dc0",
   "metadata": {},
   "outputs": [
    {
     "data": {
      "text/html": [
       "<div>\n",
       "<style scoped>\n",
       "    .dataframe tbody tr th:only-of-type {\n",
       "        vertical-align: middle;\n",
       "    }\n",
       "\n",
       "    .dataframe tbody tr th {\n",
       "        vertical-align: top;\n",
       "    }\n",
       "\n",
       "    .dataframe thead th {\n",
       "        text-align: right;\n",
       "    }\n",
       "</style>\n",
       "<table border=\"1\" class=\"dataframe\">\n",
       "  <thead>\n",
       "    <tr style=\"text-align: right;\">\n",
       "      <th>국가</th>\n",
       "      <th>스페인</th>\n",
       "      <th>프랑스</th>\n",
       "      <th>독일</th>\n",
       "      <th>중국</th>\n",
       "      <th>영국</th>\n",
       "      <th>이란</th>\n",
       "    </tr>\n",
       "  </thead>\n",
       "  <tbody>\n",
       "    <tr>\n",
       "      <th>4월06일</th>\n",
       "      <td>130709</td>\n",
       "      <td>70478</td>\n",
       "      <td>100024</td>\n",
       "      <td>81708</td>\n",
       "      <td>47806</td>\n",
       "      <td>58226</td>\n",
       "    </tr>\n",
       "    <tr>\n",
       "      <th>4월07일</th>\n",
       "      <td>135032</td>\n",
       "      <td>74390</td>\n",
       "      <td>102453</td>\n",
       "      <td>81740</td>\n",
       "      <td>51608</td>\n",
       "      <td>60500</td>\n",
       "    </tr>\n",
       "    <tr>\n",
       "      <th>4월08일</th>\n",
       "      <td>140510</td>\n",
       "      <td>78167</td>\n",
       "      <td>107591</td>\n",
       "      <td>81802</td>\n",
       "      <td>55242</td>\n",
       "      <td>62589</td>\n",
       "    </tr>\n",
       "    <tr>\n",
       "      <th>4월09일</th>\n",
       "      <td>146690</td>\n",
       "      <td>82048</td>\n",
       "      <td>112113</td>\n",
       "      <td>81865</td>\n",
       "      <td>60733</td>\n",
       "      <td>64586</td>\n",
       "    </tr>\n",
       "    <tr>\n",
       "      <th>4월10일</th>\n",
       "      <td>152446</td>\n",
       "      <td>86334</td>\n",
       "      <td>118181</td>\n",
       "      <td>81907</td>\n",
       "      <td>65077</td>\n",
       "      <td>66220</td>\n",
       "    </tr>\n",
       "  </tbody>\n",
       "</table>\n",
       "</div>"
      ],
      "text/plain": [
       "국가        스페인    프랑스      독일     중국     영국     이란\n",
       "4월06일  130709  70478  100024  81708  47806  58226\n",
       "4월07일  135032  74390  102453  81740  51608  60500\n",
       "4월08일  140510  78167  107591  81802  55242  62589\n",
       "4월09일  146690  82048  112113  81865  60733  64586\n",
       "4월10일  152446  86334  118181  81907  65077  66220"
      ]
     },
     "execution_count": 45,
     "metadata": {},
     "output_type": "execute_result"
    }
   ],
   "source": [
    "chartdata"
   ]
  },
  {
   "cell_type": "code",
   "execution_count": 48,
   "id": "e7b5c11d",
   "metadata": {},
   "outputs": [
    {
     "data": {
      "text/plain": [
       "<AxesSubplot:title={'center':'SomeTitle'}>"
      ]
     },
     "execution_count": 48,
     "metadata": {},
     "output_type": "execute_result"
    },
    {
     "data": {
      "image/png": "[encoded data removed]",
      "text/plain": [
       "<Figure size 720x432 with 1 Axes>"
      ]
     },
     "metadata": {
      "needs_background": "light"
     },
     "output_type": "display_data"
    }
   ],
   "source": [
    "chartdata.plot(title='SomeTitle', figsize=(10,6), legend=True, marker='o', rot=0)\n",
    "#legend = 색인 /// rot = x축 글씨 회전각도"
   ]
  },
  {
   "cell_type": "code",
   "execution_count": null,
   "id": "4844322d",
   "metadata": {},
   "outputs": [],
   "source": []
  },
  {
   "cell_type": "markdown",
   "id": "81227645",
   "metadata": {},
   "source": [
    "### 이중 축 꺽은 선 그래프"
   ]
  },
  {
   "cell_type": "code",
   "execution_count": 53,
   "id": "f70b8273",
   "metadata": {},
   "outputs": [
    {
     "data": {
      "text/html": [
       "<div>\n",
       "<style scoped>\n",
       "    .dataframe tbody tr th:only-of-type {\n",
       "        vertical-align: middle;\n",
       "    }\n",
       "\n",
       "    .dataframe tbody tr th {\n",
       "        vertical-align: top;\n",
       "    }\n",
       "\n",
       "    .dataframe thead th {\n",
       "        text-align: right;\n",
       "    }\n",
       "</style>\n",
       "<table border=\"1\" class=\"dataframe\">\n",
       "  <thead>\n",
       "    <tr style=\"text-align: right;\">\n",
       "      <th></th>\n",
       "      <th>Unnamed: 0</th>\n",
       "      <th>total_bill</th>\n",
       "      <th>tip</th>\n",
       "      <th>sex</th>\n",
       "      <th>smoker</th>\n",
       "      <th>day</th>\n",
       "      <th>time</th>\n",
       "      <th>size</th>\n",
       "    </tr>\n",
       "  </thead>\n",
       "  <tbody>\n",
       "    <tr>\n",
       "      <th>0</th>\n",
       "      <td>0</td>\n",
       "      <td>16.99</td>\n",
       "      <td>1.01</td>\n",
       "      <td>Female</td>\n",
       "      <td>No</td>\n",
       "      <td>Sun</td>\n",
       "      <td>Dinner</td>\n",
       "      <td>2</td>\n",
       "    </tr>\n",
       "    <tr>\n",
       "      <th>1</th>\n",
       "      <td>1</td>\n",
       "      <td>10.34</td>\n",
       "      <td>1.66</td>\n",
       "      <td>Male</td>\n",
       "      <td>No</td>\n",
       "      <td>Sun</td>\n",
       "      <td>Dinner</td>\n",
       "      <td>3</td>\n",
       "    </tr>\n",
       "    <tr>\n",
       "      <th>2</th>\n",
       "      <td>2</td>\n",
       "      <td>21.01</td>\n",
       "      <td>3.50</td>\n",
       "      <td>Male</td>\n",
       "      <td>No</td>\n",
       "      <td>Sun</td>\n",
       "      <td>Dinner</td>\n",
       "      <td>3</td>\n",
       "    </tr>\n",
       "    <tr>\n",
       "      <th>3</th>\n",
       "      <td>3</td>\n",
       "      <td>23.68</td>\n",
       "      <td>3.31</td>\n",
       "      <td>Male</td>\n",
       "      <td>No</td>\n",
       "      <td>Sun</td>\n",
       "      <td>Dinner</td>\n",
       "      <td>2</td>\n",
       "    </tr>\n",
       "    <tr>\n",
       "      <th>4</th>\n",
       "      <td>4</td>\n",
       "      <td>24.59</td>\n",
       "      <td>3.61</td>\n",
       "      <td>Female</td>\n",
       "      <td>No</td>\n",
       "      <td>Sun</td>\n",
       "      <td>Dinner</td>\n",
       "      <td>4</td>\n",
       "    </tr>\n",
       "    <tr>\n",
       "      <th>...</th>\n",
       "      <td>...</td>\n",
       "      <td>...</td>\n",
       "      <td>...</td>\n",
       "      <td>...</td>\n",
       "      <td>...</td>\n",
       "      <td>...</td>\n",
       "      <td>...</td>\n",
       "      <td>...</td>\n",
       "    </tr>\n",
       "    <tr>\n",
       "      <th>239</th>\n",
       "      <td>239</td>\n",
       "      <td>29.03</td>\n",
       "      <td>5.92</td>\n",
       "      <td>Male</td>\n",
       "      <td>No</td>\n",
       "      <td>Sat</td>\n",
       "      <td>Dinner</td>\n",
       "      <td>3</td>\n",
       "    </tr>\n",
       "    <tr>\n",
       "      <th>240</th>\n",
       "      <td>240</td>\n",
       "      <td>27.18</td>\n",
       "      <td>2.00</td>\n",
       "      <td>Female</td>\n",
       "      <td>Yes</td>\n",
       "      <td>Sat</td>\n",
       "      <td>Dinner</td>\n",
       "      <td>2</td>\n",
       "    </tr>\n",
       "    <tr>\n",
       "      <th>241</th>\n",
       "      <td>241</td>\n",
       "      <td>22.67</td>\n",
       "      <td>2.00</td>\n",
       "      <td>Male</td>\n",
       "      <td>Yes</td>\n",
       "      <td>Sat</td>\n",
       "      <td>Dinner</td>\n",
       "      <td>2</td>\n",
       "    </tr>\n",
       "    <tr>\n",
       "      <th>242</th>\n",
       "      <td>242</td>\n",
       "      <td>17.82</td>\n",
       "      <td>1.75</td>\n",
       "      <td>Male</td>\n",
       "      <td>No</td>\n",
       "      <td>Sat</td>\n",
       "      <td>Dinner</td>\n",
       "      <td>2</td>\n",
       "    </tr>\n",
       "    <tr>\n",
       "      <th>243</th>\n",
       "      <td>243</td>\n",
       "      <td>18.78</td>\n",
       "      <td>3.00</td>\n",
       "      <td>Female</td>\n",
       "      <td>No</td>\n",
       "      <td>Thur</td>\n",
       "      <td>Dinner</td>\n",
       "      <td>2</td>\n",
       "    </tr>\n",
       "  </tbody>\n",
       "</table>\n",
       "<p>244 rows × 8 columns</p>\n",
       "</div>"
      ],
      "text/plain": [
       "     Unnamed: 0  total_bill   tip     sex smoker   day    time  size\n",
       "0             0       16.99  1.01  Female     No   Sun  Dinner     2\n",
       "1             1       10.34  1.66    Male     No   Sun  Dinner     3\n",
       "2             2       21.01  3.50    Male     No   Sun  Dinner     3\n",
       "3             3       23.68  3.31    Male     No   Sun  Dinner     2\n",
       "4             4       24.59  3.61  Female     No   Sun  Dinner     4\n",
       "..          ...         ...   ...     ...    ...   ...     ...   ...\n",
       "239         239       29.03  5.92    Male     No   Sat  Dinner     3\n",
       "240         240       27.18  2.00  Female    Yes   Sat  Dinner     2\n",
       "241         241       22.67  2.00    Male    Yes   Sat  Dinner     2\n",
       "242         242       17.82  1.75    Male     No   Sat  Dinner     2\n",
       "243         243       18.78  3.00  Female     No  Thur  Dinner     2\n",
       "\n",
       "[244 rows x 8 columns]"
      ]
     },
     "execution_count": 53,
     "metadata": {},
     "output_type": "execute_result"
    }
   ],
   "source": [
    "myframe = pd.read_csv('data/tips.csv')\n",
    "myframe"
   ]
  },
  {
   "cell_type": "code",
   "execution_count": 54,
   "id": "09d31314",
   "metadata": {},
   "outputs": [
    {
     "data": {
      "text/html": [
       "<div>\n",
       "<style scoped>\n",
       "    .dataframe tbody tr th:only-of-type {\n",
       "        vertical-align: middle;\n",
       "    }\n",
       "\n",
       "    .dataframe tbody tr th {\n",
       "        vertical-align: top;\n",
       "    }\n",
       "\n",
       "    .dataframe thead th {\n",
       "        text-align: right;\n",
       "    }\n",
       "</style>\n",
       "<table border=\"1\" class=\"dataframe\">\n",
       "  <thead>\n",
       "    <tr style=\"text-align: right;\">\n",
       "      <th></th>\n",
       "      <th>Unnamed: 0</th>\n",
       "      <th>total_bill</th>\n",
       "      <th>tip</th>\n",
       "      <th>size</th>\n",
       "    </tr>\n",
       "  </thead>\n",
       "  <tbody>\n",
       "    <tr>\n",
       "      <th>count</th>\n",
       "      <td>244.000000</td>\n",
       "      <td>244.000000</td>\n",
       "      <td>244.000000</td>\n",
       "      <td>244.000000</td>\n",
       "    </tr>\n",
       "    <tr>\n",
       "      <th>mean</th>\n",
       "      <td>121.500000</td>\n",
       "      <td>19.785943</td>\n",
       "      <td>2.998279</td>\n",
       "      <td>2.569672</td>\n",
       "    </tr>\n",
       "    <tr>\n",
       "      <th>std</th>\n",
       "      <td>70.580923</td>\n",
       "      <td>8.902412</td>\n",
       "      <td>1.383638</td>\n",
       "      <td>0.951100</td>\n",
       "    </tr>\n",
       "    <tr>\n",
       "      <th>min</th>\n",
       "      <td>0.000000</td>\n",
       "      <td>3.070000</td>\n",
       "      <td>1.000000</td>\n",
       "      <td>1.000000</td>\n",
       "    </tr>\n",
       "    <tr>\n",
       "      <th>25%</th>\n",
       "      <td>60.750000</td>\n",
       "      <td>13.347500</td>\n",
       "      <td>2.000000</td>\n",
       "      <td>2.000000</td>\n",
       "    </tr>\n",
       "    <tr>\n",
       "      <th>50%</th>\n",
       "      <td>121.500000</td>\n",
       "      <td>17.795000</td>\n",
       "      <td>2.900000</td>\n",
       "      <td>2.000000</td>\n",
       "    </tr>\n",
       "    <tr>\n",
       "      <th>75%</th>\n",
       "      <td>182.250000</td>\n",
       "      <td>24.127500</td>\n",
       "      <td>3.562500</td>\n",
       "      <td>3.000000</td>\n",
       "    </tr>\n",
       "    <tr>\n",
       "      <th>max</th>\n",
       "      <td>243.000000</td>\n",
       "      <td>50.810000</td>\n",
       "      <td>10.000000</td>\n",
       "      <td>6.000000</td>\n",
       "    </tr>\n",
       "  </tbody>\n",
       "</table>\n",
       "</div>"
      ],
      "text/plain": [
       "       Unnamed: 0  total_bill         tip        size\n",
       "count  244.000000  244.000000  244.000000  244.000000\n",
       "mean   121.500000   19.785943    2.998279    2.569672\n",
       "std     70.580923    8.902412    1.383638    0.951100\n",
       "min      0.000000    3.070000    1.000000    1.000000\n",
       "25%     60.750000   13.347500    2.000000    2.000000\n",
       "50%    121.500000   17.795000    2.900000    2.000000\n",
       "75%    182.250000   24.127500    3.562500    3.000000\n",
       "max    243.000000   50.810000   10.000000    6.000000"
      ]
     },
     "execution_count": 54,
     "metadata": {},
     "output_type": "execute_result"
    }
   ],
   "source": [
    "myframe.describe()"
   ]
  },
  {
   "cell_type": "code",
   "execution_count": 60,
   "id": "08704bb7",
   "metadata": {},
   "outputs": [],
   "source": [
    "xrange = range(len(myframe))\n",
    "data_bill = myframe.loc[:, ['total_bill']]\n",
    "data_tip = myframe.loc[:, ['tip']]"
   ]
  },
  {
   "cell_type": "code",
   "execution_count": 61,
   "id": "e8e366f2",
   "metadata": {},
   "outputs": [
    {
     "data": {
      "image/png": "[encoded data removed]",
      "text/plain": [
       "<Figure size 432x288 with 2 Axes>"
      ]
     },
     "metadata": {
      "needs_background": "light"
     },
     "output_type": "display_data"
    }
   ],
   "source": [
    "fig, ax1 = plt.subplots()\n",
    "ax1.set_title('결재 금액과 Tip(이중 축)')\n",
    "\n",
    "color = 'tab:red'\n",
    "\n",
    "ax1.set_ylabel('결재 금액', color=color)\n",
    "ax1.plot(xrange, data_bill, color=color)\n",
    "ax1.tick_params(axis='y', labelcolor=color)\n",
    "\n",
    "ax2 = ax1.twinx()\n",
    "\n",
    "color = 'tab:blue'\n",
    "ax2.set_ylabel('팁(tip)', color=color)\n",
    "ax2.plot(xrange, data_tip, color=color)\n",
    "ax2.tick_params(axis='y', labelcolor=color)\n",
    "\n",
    "fig.tight_layout()"
   ]
  },
  {
   "cell_type": "code",
   "execution_count": null,
   "id": "d178fba8",
   "metadata": {},
   "outputs": [],
   "source": []
  },
  {
   "cell_type": "markdown",
   "id": "fb9a52be",
   "metadata": {},
   "source": [
    "# 3.4 산점도 그래프"
   ]
  },
  {
   "cell_type": "code",
   "execution_count": 62,
   "id": "fb2b0275",
   "metadata": {},
   "outputs": [
    {
     "data": {
      "text/html": [
       "<div>\n",
       "<style scoped>\n",
       "    .dataframe tbody tr th:only-of-type {\n",
       "        vertical-align: middle;\n",
       "    }\n",
       "\n",
       "    .dataframe tbody tr th {\n",
       "        vertical-align: top;\n",
       "    }\n",
       "\n",
       "    .dataframe thead th {\n",
       "        text-align: right;\n",
       "    }\n",
       "</style>\n",
       "<table border=\"1\" class=\"dataframe\">\n",
       "  <thead>\n",
       "    <tr style=\"text-align: right;\">\n",
       "      <th></th>\n",
       "      <th>manufacturer</th>\n",
       "      <th>model</th>\n",
       "      <th>displ</th>\n",
       "      <th>year</th>\n",
       "      <th>cyl</th>\n",
       "      <th>trans</th>\n",
       "      <th>drv</th>\n",
       "      <th>cty</th>\n",
       "      <th>hwy</th>\n",
       "      <th>fl</th>\n",
       "      <th>class</th>\n",
       "    </tr>\n",
       "  </thead>\n",
       "  <tbody>\n",
       "    <tr>\n",
       "      <th>0</th>\n",
       "      <td>audi</td>\n",
       "      <td>a4</td>\n",
       "      <td>1.8</td>\n",
       "      <td>1999</td>\n",
       "      <td>4</td>\n",
       "      <td>auto(l5)</td>\n",
       "      <td>f</td>\n",
       "      <td>18</td>\n",
       "      <td>29</td>\n",
       "      <td>p</td>\n",
       "      <td>compact</td>\n",
       "    </tr>\n",
       "    <tr>\n",
       "      <th>1</th>\n",
       "      <td>audi</td>\n",
       "      <td>a4</td>\n",
       "      <td>1.8</td>\n",
       "      <td>1999</td>\n",
       "      <td>4</td>\n",
       "      <td>manual(m5)</td>\n",
       "      <td>f</td>\n",
       "      <td>21</td>\n",
       "      <td>29</td>\n",
       "      <td>p</td>\n",
       "      <td>compact</td>\n",
       "    </tr>\n",
       "    <tr>\n",
       "      <th>2</th>\n",
       "      <td>audi</td>\n",
       "      <td>a4</td>\n",
       "      <td>2.0</td>\n",
       "      <td>2008</td>\n",
       "      <td>4</td>\n",
       "      <td>manual(m6)</td>\n",
       "      <td>f</td>\n",
       "      <td>20</td>\n",
       "      <td>31</td>\n",
       "      <td>p</td>\n",
       "      <td>compact</td>\n",
       "    </tr>\n",
       "    <tr>\n",
       "      <th>3</th>\n",
       "      <td>audi</td>\n",
       "      <td>a4</td>\n",
       "      <td>2.0</td>\n",
       "      <td>2008</td>\n",
       "      <td>4</td>\n",
       "      <td>auto(av)</td>\n",
       "      <td>f</td>\n",
       "      <td>21</td>\n",
       "      <td>30</td>\n",
       "      <td>p</td>\n",
       "      <td>compact</td>\n",
       "    </tr>\n",
       "    <tr>\n",
       "      <th>4</th>\n",
       "      <td>audi</td>\n",
       "      <td>a4</td>\n",
       "      <td>2.8</td>\n",
       "      <td>1999</td>\n",
       "      <td>6</td>\n",
       "      <td>auto(l5)</td>\n",
       "      <td>f</td>\n",
       "      <td>16</td>\n",
       "      <td>26</td>\n",
       "      <td>p</td>\n",
       "      <td>compact</td>\n",
       "    </tr>\n",
       "  </tbody>\n",
       "</table>\n",
       "</div>"
      ],
      "text/plain": [
       "  manufacturer model  displ  year  cyl       trans drv  cty  hwy fl    class\n",
       "0         audi    a4    1.8  1999    4    auto(l5)   f   18   29  p  compact\n",
       "1         audi    a4    1.8  1999    4  manual(m5)   f   21   29  p  compact\n",
       "2         audi    a4    2.0  2008    4  manual(m6)   f   20   31  p  compact\n",
       "3         audi    a4    2.0  2008    4    auto(av)   f   21   30  p  compact\n",
       "4         audi    a4    2.8  1999    6    auto(l5)   f   16   26  p  compact"
      ]
     },
     "execution_count": 62,
     "metadata": {},
     "output_type": "execute_result"
    }
   ],
   "source": [
    "mpg = pd.read_csv('data/mpg.csv', encoding='utf-8')\n",
    "mpg.head()"
   ]
  },
  {
   "cell_type": "markdown",
   "id": "cb266603",
   "metadata": {},
   "source": [
    "### 엔진 크기에 대한 주행 마일수의 산점도 그래프"
   ]
  },
  {
   "cell_type": "code",
   "execution_count": 63,
   "id": "52f7e0da",
   "metadata": {},
   "outputs": [],
   "source": [
    "xdata = mpg.loc[:, ['displ']]\n",
    "ydata = mpg.loc[:, ['hwy']]"
   ]
  },
  {
   "cell_type": "code",
   "execution_count": 65,
   "id": "186deabf",
   "metadata": {},
   "outputs": [
    {
     "data": {
      "image/png": "[encoded data removed]",
      "text/plain": [
       "<Figure size 432x288 with 1 Axes>"
      ]
     },
     "metadata": {
      "needs_background": "light"
     },
     "output_type": "display_data"
    }
   ],
   "source": [
    "plt.figure()\n",
    "plt.plot(xdata,ydata, marker='o', linestyle='none')\n",
    "plt.xlabel('엔진 크기')\n",
    "plt.ylabel('주행 마일수')\n",
    "plt.title('산점도 그래프')\n",
    "plt.grid(True)"
   ]
  },
  {
   "cell_type": "code",
   "execution_count": null,
   "id": "4e34f171",
   "metadata": {},
   "outputs": [],
   "source": []
  },
  {
   "cell_type": "markdown",
   "id": "39538938",
   "metadata": {},
   "source": [
    "### 구동 방식에 의한 색상 구분하기"
   ]
  },
  {
   "cell_type": "code",
   "execution_count": 68,
   "id": "9f420999",
   "metadata": {},
   "outputs": [],
   "source": [
    "mycolors = ['r', 'g', 'b']\n",
    "label_dict = {'f':'전륜 구동', '4':'사륜 구동', 'r':'후륜 구동'}"
   ]
  },
  {
   "cell_type": "code",
   "execution_count": 69,
   "id": "6bac8de2",
   "metadata": {},
   "outputs": [
    {
     "data": {
      "image/png": "[encoded data removed]",
      "text/plain": [
       "<Figure size 432x288 with 1 Axes>"
      ]
     },
     "metadata": {
      "needs_background": "light"
     },
     "output_type": "display_data"
    }
   ],
   "source": [
    "plt.figure()\n",
    "\n",
    "idx = 0 # 색상 구분을 위한 카운터 변수\n",
    "labels = mpg['drv'].unique() # ['f' '4' 'r']\n",
    "\n",
    "for finditem in labels:\n",
    "    xdata = mpg.loc[mpg['drv'] == finditem, 'displ']\n",
    "    ydata = mpg.loc[mpg['drv'] == finditem, 'hwy']\n",
    "    plt.plot(xdata, ydata, color=mycolors[idx], marker='o', linestyle='None', label=label_dict[finditem])\n",
    "    idx += 1\n",
    "\n",
    "plt.legend()\n",
    "plt.xlabel(\"엔진 크기\")\n",
    "plt.ylabel(\"주행 마일수\")\n",
    "plt.title(\"산점도 그래프\")\n",
    "plt.grid(True)"
   ]
  },
  {
   "cell_type": "code",
   "execution_count": null,
   "id": "48481503",
   "metadata": {},
   "outputs": [],
   "source": []
  },
  {
   "cell_type": "markdown",
   "id": "c7ec6cdc",
   "metadata": {},
   "source": [
    "### 참고 : 산점도와 히스토그램 동시에 그리기"
   ]
  },
  {
   "cell_type": "code",
   "execution_count": 70,
   "id": "24d21375",
   "metadata": {},
   "outputs": [
    {
     "data": {
      "image/png": "[encoded data removed]",
      "text/plain": [
       "<Figure size 1280x800 with 3 Axes>"
      ]
     },
     "metadata": {
      "needs_background": "light"
     },
     "output_type": "display_data"
    }
   ],
   "source": [
    "fig = plt.figure(figsize=(16, 10), dpi= 80)\n",
    "grid = plt.GridSpec(4, 4, hspace=0.5, wspace=0.2)\n",
    "\n",
    "# 축을 정의합니다.\n",
    "ax_main = fig.add_subplot(grid[:-1, :-1])\n",
    "ax_right = fig.add_subplot(grid[:-1, -1], xticklabels=[], yticklabels=[])\n",
    "ax_bottom = fig.add_subplot(grid[-1, 0:-1], xticklabels=[], yticklabels=[])\n",
    "\n",
    "# 메인 그래프에 산점도를 그립니다.\n",
    "ax_main.scatter('displ', 'hwy', s=mpg.cty*4, c=mpg.manufacturer.astype('category').cat.codes, \n",
    "                alpha=.9, data=mpg, cmap=\"tab10\", edgecolors='gray', linewidths=.5)\n",
    "\n",
    "# 하단의 histogram\n",
    "ax_bottom.hist(mpg.displ, 40, histtype='stepfilled', orientation='vertical', color='lightpink')\n",
    "ax_bottom.invert_yaxis()\n",
    "\n",
    "# 오른쪽 histogram\n",
    "ax_right.hist(mpg.hwy, 40, histtype='stepfilled', orientation='horizontal', color='lightblue')\n",
    "\n",
    "# Decorations\n",
    "ax_main.set(title='산점도(엔진의 크기 vs 주행 마일수)', xlabel='엔진의 크기', ylabel='주행 마일수')\n",
    "ax_main.title.set_fontsize(20)\n",
    "for item in ([ax_main.xaxis.label, ax_main.yaxis.label] + ax_main.get_xticklabels() + ax_main.get_yticklabels()):\n",
    "    item.set_fontsize(14)"
   ]
  },
  {
   "cell_type": "code",
   "execution_count": null,
   "id": "8d23cf4c",
   "metadata": {},
   "outputs": [],
   "source": []
  },
  {
   "cell_type": "markdown",
   "id": "9dc48d0d",
   "metadata": {},
   "source": [
    "### 다이아몬드 데이터셋과 산점도"
   ]
  },
  {
   "cell_type": "code",
   "execution_count": 71,
   "id": "5e7ec502",
   "metadata": {},
   "outputs": [
    {
     "data": {
      "text/html": [
       "<div>\n",
       "<style scoped>\n",
       "    .dataframe tbody tr th:only-of-type {\n",
       "        vertical-align: middle;\n",
       "    }\n",
       "\n",
       "    .dataframe tbody tr th {\n",
       "        vertical-align: top;\n",
       "    }\n",
       "\n",
       "    .dataframe thead th {\n",
       "        text-align: right;\n",
       "    }\n",
       "</style>\n",
       "<table border=\"1\" class=\"dataframe\">\n",
       "  <thead>\n",
       "    <tr style=\"text-align: right;\">\n",
       "      <th></th>\n",
       "      <th>carat</th>\n",
       "      <th>cut</th>\n",
       "      <th>color</th>\n",
       "      <th>clarity</th>\n",
       "      <th>depth</th>\n",
       "      <th>table</th>\n",
       "      <th>price</th>\n",
       "      <th>x</th>\n",
       "      <th>y</th>\n",
       "      <th>z</th>\n",
       "    </tr>\n",
       "  </thead>\n",
       "  <tbody>\n",
       "    <tr>\n",
       "      <th>0</th>\n",
       "      <td>0.23</td>\n",
       "      <td>Ideal</td>\n",
       "      <td>E</td>\n",
       "      <td>SI2</td>\n",
       "      <td>61.5</td>\n",
       "      <td>55.0</td>\n",
       "      <td>326</td>\n",
       "      <td>3.95</td>\n",
       "      <td>3.98</td>\n",
       "      <td>2.43</td>\n",
       "    </tr>\n",
       "    <tr>\n",
       "      <th>1</th>\n",
       "      <td>0.21</td>\n",
       "      <td>Premium</td>\n",
       "      <td>E</td>\n",
       "      <td>SI1</td>\n",
       "      <td>59.8</td>\n",
       "      <td>61.0</td>\n",
       "      <td>326</td>\n",
       "      <td>3.89</td>\n",
       "      <td>3.84</td>\n",
       "      <td>2.31</td>\n",
       "    </tr>\n",
       "    <tr>\n",
       "      <th>2</th>\n",
       "      <td>0.23</td>\n",
       "      <td>Good</td>\n",
       "      <td>E</td>\n",
       "      <td>VS1</td>\n",
       "      <td>56.9</td>\n",
       "      <td>65.0</td>\n",
       "      <td>327</td>\n",
       "      <td>4.05</td>\n",
       "      <td>4.07</td>\n",
       "      <td>2.31</td>\n",
       "    </tr>\n",
       "    <tr>\n",
       "      <th>3</th>\n",
       "      <td>0.29</td>\n",
       "      <td>Premium</td>\n",
       "      <td>I</td>\n",
       "      <td>VS2</td>\n",
       "      <td>62.4</td>\n",
       "      <td>58.0</td>\n",
       "      <td>334</td>\n",
       "      <td>4.20</td>\n",
       "      <td>4.23</td>\n",
       "      <td>2.63</td>\n",
       "    </tr>\n",
       "    <tr>\n",
       "      <th>4</th>\n",
       "      <td>0.31</td>\n",
       "      <td>Good</td>\n",
       "      <td>J</td>\n",
       "      <td>SI2</td>\n",
       "      <td>63.3</td>\n",
       "      <td>58.0</td>\n",
       "      <td>335</td>\n",
       "      <td>4.34</td>\n",
       "      <td>4.35</td>\n",
       "      <td>2.75</td>\n",
       "    </tr>\n",
       "    <tr>\n",
       "      <th>...</th>\n",
       "      <td>...</td>\n",
       "      <td>...</td>\n",
       "      <td>...</td>\n",
       "      <td>...</td>\n",
       "      <td>...</td>\n",
       "      <td>...</td>\n",
       "      <td>...</td>\n",
       "      <td>...</td>\n",
       "      <td>...</td>\n",
       "      <td>...</td>\n",
       "    </tr>\n",
       "    <tr>\n",
       "      <th>53935</th>\n",
       "      <td>0.72</td>\n",
       "      <td>Ideal</td>\n",
       "      <td>D</td>\n",
       "      <td>SI1</td>\n",
       "      <td>60.8</td>\n",
       "      <td>57.0</td>\n",
       "      <td>2757</td>\n",
       "      <td>5.75</td>\n",
       "      <td>5.76</td>\n",
       "      <td>3.50</td>\n",
       "    </tr>\n",
       "    <tr>\n",
       "      <th>53936</th>\n",
       "      <td>0.72</td>\n",
       "      <td>Good</td>\n",
       "      <td>D</td>\n",
       "      <td>SI1</td>\n",
       "      <td>63.1</td>\n",
       "      <td>55.0</td>\n",
       "      <td>2757</td>\n",
       "      <td>5.69</td>\n",
       "      <td>5.75</td>\n",
       "      <td>3.61</td>\n",
       "    </tr>\n",
       "    <tr>\n",
       "      <th>53937</th>\n",
       "      <td>0.70</td>\n",
       "      <td>Very Good</td>\n",
       "      <td>D</td>\n",
       "      <td>SI1</td>\n",
       "      <td>62.8</td>\n",
       "      <td>60.0</td>\n",
       "      <td>2757</td>\n",
       "      <td>5.66</td>\n",
       "      <td>5.68</td>\n",
       "      <td>3.56</td>\n",
       "    </tr>\n",
       "    <tr>\n",
       "      <th>53938</th>\n",
       "      <td>0.86</td>\n",
       "      <td>Premium</td>\n",
       "      <td>H</td>\n",
       "      <td>SI2</td>\n",
       "      <td>61.0</td>\n",
       "      <td>58.0</td>\n",
       "      <td>2757</td>\n",
       "      <td>6.15</td>\n",
       "      <td>6.12</td>\n",
       "      <td>3.74</td>\n",
       "    </tr>\n",
       "    <tr>\n",
       "      <th>53939</th>\n",
       "      <td>0.75</td>\n",
       "      <td>Ideal</td>\n",
       "      <td>D</td>\n",
       "      <td>SI2</td>\n",
       "      <td>62.2</td>\n",
       "      <td>55.0</td>\n",
       "      <td>2757</td>\n",
       "      <td>5.83</td>\n",
       "      <td>5.87</td>\n",
       "      <td>3.64</td>\n",
       "    </tr>\n",
       "  </tbody>\n",
       "</table>\n",
       "<p>53940 rows × 10 columns</p>\n",
       "</div>"
      ],
      "text/plain": [
       "       carat        cut color clarity  depth  table  price     x     y     z\n",
       "0       0.23      Ideal     E     SI2   61.5   55.0    326  3.95  3.98  2.43\n",
       "1       0.21    Premium     E     SI1   59.8   61.0    326  3.89  3.84  2.31\n",
       "2       0.23       Good     E     VS1   56.9   65.0    327  4.05  4.07  2.31\n",
       "3       0.29    Premium     I     VS2   62.4   58.0    334  4.20  4.23  2.63\n",
       "4       0.31       Good     J     SI2   63.3   58.0    335  4.34  4.35  2.75\n",
       "...      ...        ...   ...     ...    ...    ...    ...   ...   ...   ...\n",
       "53935   0.72      Ideal     D     SI1   60.8   57.0   2757  5.75  5.76  3.50\n",
       "53936   0.72       Good     D     SI1   63.1   55.0   2757  5.69  5.75  3.61\n",
       "53937   0.70  Very Good     D     SI1   62.8   60.0   2757  5.66  5.68  3.56\n",
       "53938   0.86    Premium     H     SI2   61.0   58.0   2757  6.15  6.12  3.74\n",
       "53939   0.75      Ideal     D     SI2   62.2   55.0   2757  5.83  5.87  3.64\n",
       "\n",
       "[53940 rows x 10 columns]"
      ]
     },
     "execution_count": 71,
     "metadata": {},
     "output_type": "execute_result"
    }
   ],
   "source": [
    "diamonds = pd.read_csv('data/diamonds.csv')\n",
    "diamonds"
   ]
  },
  {
   "cell_type": "code",
   "execution_count": 73,
   "id": "d16395d8",
   "metadata": {},
   "outputs": [],
   "source": [
    "# 데이터가 매우 커서 전체의 일부분만 샘플링\n",
    "FRACTION = 0.005\n",
    "diamonds = diamonds.sample(frac=FRACTION)"
   ]
  },
  {
   "cell_type": "code",
   "execution_count": 74,
   "id": "0da8c90e",
   "metadata": {},
   "outputs": [],
   "source": [
    "xdata = diamonds['price'] # x축\n",
    "ydata = diamonds['depth'] # y축\n",
    "table = diamonds['table']  # 원의 크기"
   ]
  },
  {
   "cell_type": "code",
   "execution_count": 75,
   "id": "73110e9a",
   "metadata": {},
   "outputs": [
    {
     "data": {
      "text/plain": [
       "array(['Ideal', 'Premium', 'Good', 'Very Good', 'Fair'], dtype=object)"
      ]
     },
     "execution_count": 75,
     "metadata": {},
     "output_type": "execute_result"
    }
   ],
   "source": [
    "mycolor = ['r', 'g', 'b', 'y', 'm']\n",
    "cut_list = diamonds['cut'].unique()\n",
    "cut_list"
   ]
  },
  {
   "cell_type": "code",
   "execution_count": 77,
   "id": "11fcc323",
   "metadata": {},
   "outputs": [
    {
     "data": {
      "text/plain": [
       "{'Ideal': 'r', 'Premium': 'g', 'Good': 'b', 'Very Good': 'y', 'Fair': 'm'}"
      ]
     },
     "execution_count": 77,
     "metadata": {},
     "output_type": "execute_result"
    }
   ],
   "source": [
    "cut_dict = {cut_list[idx]:mycolor[idx] for idx in range(len(cut_list))}\n",
    "cut_dict"
   ]
  },
  {
   "cell_type": "code",
   "execution_count": 78,
   "id": "682273be",
   "metadata": {},
   "outputs": [],
   "source": [
    "def recode_cut(cut):\n",
    "    return cut_dict[cut]"
   ]
  },
  {
   "cell_type": "code",
   "execution_count": 79,
   "id": "b7b0268f",
   "metadata": {},
   "outputs": [],
   "source": [
    "# 문자열 데이터를 숫자형으로 변환\n",
    "diamonds['newcut'] = diamonds['cut'].apply(recode_cut)\n",
    "newcut = diamonds['newcut'] # 범주형 자료(숫자형)"
   ]
  },
  {
   "cell_type": "code",
   "execution_count": 81,
   "id": "91928c36",
   "metadata": {},
   "outputs": [],
   "source": [
    "def recode_table(table):\n",
    "    if table >= 60:\n",
    "        return 100\n",
    "    elif table >= 58:\n",
    "        return 30\n",
    "    elif table >= 54:\n",
    "        return 5\n",
    "    else :\n",
    "        return 1"
   ]
  },
  {
   "cell_type": "code",
   "execution_count": 82,
   "id": "f9f0ddb8",
   "metadata": {},
   "outputs": [],
   "source": [
    "diamonds['newtable'] = diamonds['table'].apply(recode_table)\n",
    "newtable = diamonds['newtable'] # 범주형 자료(숫자형)"
   ]
  },
  {
   "cell_type": "code",
   "execution_count": 83,
   "id": "7fb708b7",
   "metadata": {},
   "outputs": [
    {
     "data": {
      "text/html": [
       "<div>\n",
       "<style scoped>\n",
       "    .dataframe tbody tr th:only-of-type {\n",
       "        vertical-align: middle;\n",
       "    }\n",
       "\n",
       "    .dataframe tbody tr th {\n",
       "        vertical-align: top;\n",
       "    }\n",
       "\n",
       "    .dataframe thead th {\n",
       "        text-align: right;\n",
       "    }\n",
       "</style>\n",
       "<table border=\"1\" class=\"dataframe\">\n",
       "  <thead>\n",
       "    <tr style=\"text-align: right;\">\n",
       "      <th></th>\n",
       "      <th>price</th>\n",
       "      <th>depth</th>\n",
       "      <th>newtable</th>\n",
       "      <th>table</th>\n",
       "      <th>newcut</th>\n",
       "    </tr>\n",
       "  </thead>\n",
       "  <tbody>\n",
       "    <tr>\n",
       "      <th>38631</th>\n",
       "      <td>489</td>\n",
       "      <td>62.1</td>\n",
       "      <td>5</td>\n",
       "      <td>55.0</td>\n",
       "      <td>r</td>\n",
       "    </tr>\n",
       "    <tr>\n",
       "      <th>19537</th>\n",
       "      <td>8170</td>\n",
       "      <td>61.1</td>\n",
       "      <td>30</td>\n",
       "      <td>58.0</td>\n",
       "      <td>g</td>\n",
       "    </tr>\n",
       "    <tr>\n",
       "      <th>19642</th>\n",
       "      <td>8257</td>\n",
       "      <td>60.8</td>\n",
       "      <td>5</td>\n",
       "      <td>56.0</td>\n",
       "      <td>r</td>\n",
       "    </tr>\n",
       "    <tr>\n",
       "      <th>53789</th>\n",
       "      <td>2729</td>\n",
       "      <td>61.8</td>\n",
       "      <td>5</td>\n",
       "      <td>56.0</td>\n",
       "      <td>r</td>\n",
       "    </tr>\n",
       "    <tr>\n",
       "      <th>47783</th>\n",
       "      <td>1897</td>\n",
       "      <td>61.3</td>\n",
       "      <td>5</td>\n",
       "      <td>56.0</td>\n",
       "      <td>r</td>\n",
       "    </tr>\n",
       "    <tr>\n",
       "      <th>...</th>\n",
       "      <td>...</td>\n",
       "      <td>...</td>\n",
       "      <td>...</td>\n",
       "      <td>...</td>\n",
       "      <td>...</td>\n",
       "    </tr>\n",
       "    <tr>\n",
       "      <th>47023</th>\n",
       "      <td>1819</td>\n",
       "      <td>61.9</td>\n",
       "      <td>5</td>\n",
       "      <td>56.0</td>\n",
       "      <td>r</td>\n",
       "    </tr>\n",
       "    <tr>\n",
       "      <th>20363</th>\n",
       "      <td>8758</td>\n",
       "      <td>60.9</td>\n",
       "      <td>5</td>\n",
       "      <td>57.0</td>\n",
       "      <td>r</td>\n",
       "    </tr>\n",
       "    <tr>\n",
       "      <th>15204</th>\n",
       "      <td>6108</td>\n",
       "      <td>62.9</td>\n",
       "      <td>30</td>\n",
       "      <td>58.0</td>\n",
       "      <td>g</td>\n",
       "    </tr>\n",
       "    <tr>\n",
       "      <th>26854</th>\n",
       "      <td>16779</td>\n",
       "      <td>59.9</td>\n",
       "      <td>100</td>\n",
       "      <td>60.0</td>\n",
       "      <td>g</td>\n",
       "    </tr>\n",
       "    <tr>\n",
       "      <th>27311</th>\n",
       "      <td>17825</td>\n",
       "      <td>61.3</td>\n",
       "      <td>5</td>\n",
       "      <td>55.0</td>\n",
       "      <td>r</td>\n",
       "    </tr>\n",
       "  </tbody>\n",
       "</table>\n",
       "<p>270 rows × 5 columns</p>\n",
       "</div>"
      ],
      "text/plain": [
       "       price  depth  newtable  table newcut\n",
       "38631    489   62.1         5   55.0      r\n",
       "19537   8170   61.1        30   58.0      g\n",
       "19642   8257   60.8         5   56.0      r\n",
       "53789   2729   61.8         5   56.0      r\n",
       "47783   1897   61.3         5   56.0      r\n",
       "...      ...    ...       ...    ...    ...\n",
       "47023   1819   61.9         5   56.0      r\n",
       "20363   8758   60.9         5   57.0      r\n",
       "15204   6108   62.9        30   58.0      g\n",
       "26854  16779   59.9       100   60.0      g\n",
       "27311  17825   61.3         5   55.0      r\n",
       "\n",
       "[270 rows x 5 columns]"
      ]
     },
     "execution_count": 83,
     "metadata": {},
     "output_type": "execute_result"
    }
   ],
   "source": [
    "diamonds.loc[:, ['price', 'depth', 'newtable', 'table', 'newcut']]"
   ]
  },
  {
   "cell_type": "code",
   "execution_count": 84,
   "id": "d0cd99b6",
   "metadata": {},
   "outputs": [
    {
     "data": {
      "text/plain": [
       "Text(0, 0.5, 'Depth')"
      ]
     },
     "execution_count": 84,
     "metadata": {},
     "output_type": "execute_result"
    },
    {
     "data": {
      "image/png": "[encoded data removed]",
      "text/plain": [
       "<Figure size 432x288 with 1 Axes>"
      ]
     },
     "metadata": {
      "needs_background": "light"
     },
     "output_type": "display_data"
    }
   ],
   "source": [
    "import matplotlib.pyplot as plt\n",
    "scatter_plot = plt.figure()\n",
    "ax1 = scatter_plot.add_subplot(1, 1, 1)\n",
    "\n",
    "# 매개 변수\n",
    "# 's'는 도형의 크기를 지정합니다.\n",
    "# 'c'는 색상 이름 또는 숫자의 연속형이면 됩니다.\n",
    "ax1.scatter(x=xdata, y=ydata, s=newtable, c=newcut, alpha=0.8)\n",
    "\n",
    "ax1.set_title('Price vs Depth Colored by Cut and Table')\n",
    "ax1.set_xlabel('Price')\n",
    "ax1.set_ylabel('Depth')"
   ]
  },
  {
   "cell_type": "code",
   "execution_count": null,
   "id": "10f5f0ab",
   "metadata": {},
   "outputs": [],
   "source": []
  },
  {
   "cell_type": "markdown",
   "id": "88a0407d",
   "metadata": {},
   "source": [
    "# 3.5 막대 그래프"
   ]
  },
  {
   "cell_type": "markdown",
   "id": "a1945c09",
   "metadata": {},
   "source": [
    "### 3.5.1 특정 일자 일변량 막대 그래프"
   ]
  },
  {
   "cell_type": "code",
   "execution_count": 2,
   "id": "face58bb",
   "metadata": {},
   "outputs": [],
   "source": [
    "data = pd.read_csv('data/주요발생국가주간동향(4월2째주).csv',index_col='국가')"
   ]
  },
  {
   "cell_type": "code",
   "execution_count": 3,
   "id": "69b5c7fc",
   "metadata": {},
   "outputs": [
    {
     "data": {
      "text/html": [
       "<div>\n",
       "<style scoped>\n",
       "    .dataframe tbody tr th:only-of-type {\n",
       "        vertical-align: middle;\n",
       "    }\n",
       "\n",
       "    .dataframe tbody tr th {\n",
       "        vertical-align: top;\n",
       "    }\n",
       "\n",
       "    .dataframe thead th {\n",
       "        text-align: right;\n",
       "    }\n",
       "</style>\n",
       "<table border=\"1\" class=\"dataframe\">\n",
       "  <thead>\n",
       "    <tr style=\"text-align: right;\">\n",
       "      <th></th>\n",
       "      <th>4월06일</th>\n",
       "      <th>4월07일</th>\n",
       "      <th>4월08일</th>\n",
       "      <th>4월09일</th>\n",
       "      <th>4월10일</th>\n",
       "      <th>4월11일</th>\n",
       "      <th>4월12일</th>\n",
       "    </tr>\n",
       "    <tr>\n",
       "      <th>국가</th>\n",
       "      <th></th>\n",
       "      <th></th>\n",
       "      <th></th>\n",
       "      <th></th>\n",
       "      <th></th>\n",
       "      <th></th>\n",
       "      <th></th>\n",
       "    </tr>\n",
       "  </thead>\n",
       "  <tbody>\n",
       "    <tr>\n",
       "      <th>미국</th>\n",
       "      <td>335524</td>\n",
       "      <td>364723</td>\n",
       "      <td>387547</td>\n",
       "      <td>424945</td>\n",
       "      <td>461437</td>\n",
       "      <td>495535</td>\n",
       "      <td>524903</td>\n",
       "    </tr>\n",
       "    <tr>\n",
       "      <th>스페인</th>\n",
       "      <td>130709</td>\n",
       "      <td>135032</td>\n",
       "      <td>140510</td>\n",
       "      <td>146690</td>\n",
       "      <td>152446</td>\n",
       "      <td>157022</td>\n",
       "      <td>161852</td>\n",
       "    </tr>\n",
       "    <tr>\n",
       "      <th>이탈리아</th>\n",
       "      <td>128948</td>\n",
       "      <td>132547</td>\n",
       "      <td>135586</td>\n",
       "      <td>139422</td>\n",
       "      <td>143626</td>\n",
       "      <td>147577</td>\n",
       "      <td>152271</td>\n",
       "    </tr>\n",
       "    <tr>\n",
       "      <th>독일</th>\n",
       "      <td>100024</td>\n",
       "      <td>102453</td>\n",
       "      <td>107591</td>\n",
       "      <td>112113</td>\n",
       "      <td>118181</td>\n",
       "      <td>122171</td>\n",
       "      <td>124908</td>\n",
       "    </tr>\n",
       "    <tr>\n",
       "      <th>프랑스</th>\n",
       "      <td>70478</td>\n",
       "      <td>74390</td>\n",
       "      <td>78167</td>\n",
       "      <td>82048</td>\n",
       "      <td>86334</td>\n",
       "      <td>90276</td>\n",
       "      <td>93790</td>\n",
       "    </tr>\n",
       "    <tr>\n",
       "      <th>중국</th>\n",
       "      <td>81708</td>\n",
       "      <td>81740</td>\n",
       "      <td>81802</td>\n",
       "      <td>81865</td>\n",
       "      <td>81907</td>\n",
       "      <td>81953</td>\n",
       "      <td>82052</td>\n",
       "    </tr>\n",
       "    <tr>\n",
       "      <th>영국</th>\n",
       "      <td>47806</td>\n",
       "      <td>51608</td>\n",
       "      <td>55242</td>\n",
       "      <td>60733</td>\n",
       "      <td>65077</td>\n",
       "      <td>73758</td>\n",
       "      <td>78991</td>\n",
       "    </tr>\n",
       "    <tr>\n",
       "      <th>이란</th>\n",
       "      <td>58226</td>\n",
       "      <td>60500</td>\n",
       "      <td>62589</td>\n",
       "      <td>64586</td>\n",
       "      <td>66220</td>\n",
       "      <td>68192</td>\n",
       "      <td>70029</td>\n",
       "    </tr>\n",
       "    <tr>\n",
       "      <th>스위스</th>\n",
       "      <td>21104</td>\n",
       "      <td>21652</td>\n",
       "      <td>22241</td>\n",
       "      <td>22789</td>\n",
       "      <td>23574</td>\n",
       "      <td>24308</td>\n",
       "      <td>24900</td>\n",
       "    </tr>\n",
       "    <tr>\n",
       "      <th>한국</th>\n",
       "      <td>10284</td>\n",
       "      <td>10331</td>\n",
       "      <td>10384</td>\n",
       "      <td>10423</td>\n",
       "      <td>10450</td>\n",
       "      <td>10480</td>\n",
       "      <td>10512</td>\n",
       "    </tr>\n",
       "  </tbody>\n",
       "</table>\n",
       "</div>"
      ],
      "text/plain": [
       "       4월06일   4월07일   4월08일   4월09일   4월10일   4월11일   4월12일\n",
       "국가                                                          \n",
       "미국    335524  364723  387547  424945  461437  495535  524903\n",
       "스페인   130709  135032  140510  146690  152446  157022  161852\n",
       "이탈리아  128948  132547  135586  139422  143626  147577  152271\n",
       "독일    100024  102453  107591  112113  118181  122171  124908\n",
       "프랑스    70478   74390   78167   82048   86334   90276   93790\n",
       "중국     81708   81740   81802   81865   81907   81953   82052\n",
       "영국     47806   51608   55242   60733   65077   73758   78991\n",
       "이란     58226   60500   62589   64586   66220   68192   70029\n",
       "스위스    21104   21652   22241   22789   23574   24308   24900\n",
       "한국     10284   10331   10384   10423   10450   10480   10512"
      ]
     },
     "execution_count": 3,
     "metadata": {},
     "output_type": "execute_result"
    }
   ],
   "source": [
    "data"
   ]
  },
  {
   "cell_type": "code",
   "execution_count": 6,
   "id": "cb720086",
   "metadata": {},
   "outputs": [],
   "source": [
    "# 모듈화\n",
    "# plt.bar() 메소드를 사용한 막대 그래프\n",
    "def MakeBarChart01(x, y, color, xlabel, ylabel, title):\n",
    "    plt.figure()\n",
    "    plt.bar(x, y, color=color, alpha=0.7) #alpha : 투명도\n",
    "    plt.xlabel(xlabel)\n",
    "    plt.ylabel(ylabel)\n",
    "    plt.title(title)\n",
    "    # plt.grid(True)\n",
    "\n",
    "    YTICKS_INTERVAL = 50000\n",
    "\n",
    "    maxlim = (int(y.max() / YTICKS_INTERVAL) + 1) * YTICKS_INTERVAL\n",
    "    print(maxlim)\n",
    "\n",
    "    values = np.arange(0, maxlim + 1, YTICKS_INTERVAL)\n",
    "\n",
    "    plt.yticks(values, ['%s' % format(val, ',') for val in values])\n",
    "\n",
    "    # 그래프 위에 건수와 비율 구하기\n",
    "    ratio = 100 * y / y.sum()\n",
    "    print(ratio)\n",
    "    \n",
    "\n",
    "    plt.rc('font', size=6)\n",
    "    for idx in range(y.size):\n",
    "        value = format(y[idx], ',') + '건'  # 예시 : 60건\n",
    "        ratioval = '%.1f%%' % (ratio[idx])  # 예시 : 20.0%\n",
    "        # 그래프의 위에 \"건수\" 표시\n",
    "        plt.text(x=idx, y=y[idx] + 1, s=value, horizontalalignment='center')\n",
    "        # 그래프의 중간에 비율 표시\n",
    "        plt.text(x=idx, y=y[idx] / 2, s=ratioval, horizontalalignment='center')\n",
    "\n",
    "    # 평균 값을 수평선으로 그리기\n",
    "    meanval = y.mean()\n",
    "    print(meanval)\n",
    "\n",
    "    average = '평균 : %d건' % meanval\n",
    "    plt.axhline(y=meanval, color='r', linewidth=1, linestyle='dashed')\n",
    "    plt.text(x=y.size - 1, y=meanval + 200, s=average, horizontalalignment='center')"
   ]
  },
  {
   "cell_type": "code",
   "execution_count": 8,
   "id": "e793d913",
   "metadata": {},
   "outputs": [
    {
     "data": {
      "text/plain": [
       "국가\n",
       "미국      335524\n",
       "스페인     130709\n",
       "이탈리아    128948\n",
       "독일      100024\n",
       "프랑스      70478\n",
       "중국       81708\n",
       "영국       47806\n",
       "이란       58226\n",
       "스위스      21104\n",
       "한국       10284\n",
       "Name: 4월06일, dtype: int64"
      ]
     },
     "execution_count": 8,
     "metadata": {},
     "output_type": "execute_result"
    }
   ],
   "source": [
    "chartdata = data['4월06일']\n",
    "chartdata"
   ]
  },
  {
   "cell_type": "code",
   "execution_count": 9,
   "id": "bd3d280b",
   "metadata": {},
   "outputs": [],
   "source": [
    "colors = ['b', 'g', 'r', 'c', 'm', 'y', 'k']\n",
    "mycolor = colors[0:len(chartdata)]"
   ]
  },
  {
   "cell_type": "code",
   "execution_count": 10,
   "id": "9ef9a1e3",
   "metadata": {},
   "outputs": [
    {
     "name": "stdout",
     "output_type": "stream",
     "text": [
      "350000\n",
      "국가\n",
      "미국      34.069888\n",
      "스페인     13.272496\n",
      "이탈리아    13.093680\n",
      "독일      10.156670\n",
      "프랑스      7.156500\n",
      "중국       8.296820\n",
      "영국       4.854332\n",
      "이란       5.912403\n",
      "스위스      2.142949\n",
      "한국       1.044261\n",
      "Name: 4월06일, dtype: float64\n",
      "98481.1\n"
     ]
    },
    {
     "data": {
      "image/png": "[encoded data removed]",
      "text/plain": [
       "<Figure size 432x288 with 1 Axes>"
      ]
     },
     "metadata": {
      "needs_background": "light"
     },
     "output_type": "display_data"
    }
   ],
   "source": [
    "# 4월 6일 그래프\n",
    "MakeBarChart01(x=chartdata.index, y=chartdata, color=mycolor, xlabel='국가명', \n",
    "               ylabel='발생건수', title='국가별 코로나 발생 건수')"
   ]
  },
  {
   "cell_type": "code",
   "execution_count": null,
   "id": "7f40429b",
   "metadata": {},
   "outputs": [],
   "source": []
  },
  {
   "cell_type": "markdown",
   "id": "149600ca",
   "metadata": {},
   "source": [
    "### 특정 국가별 일별 다변량 막대 그래프"
   ]
  },
  {
   "cell_type": "code",
   "execution_count": 11,
   "id": "3dda1277",
   "metadata": {},
   "outputs": [
    {
     "data": {
      "text/html": [
       "<div>\n",
       "<style scoped>\n",
       "    .dataframe tbody tr th:only-of-type {\n",
       "        vertical-align: middle;\n",
       "    }\n",
       "\n",
       "    .dataframe tbody tr th {\n",
       "        vertical-align: top;\n",
       "    }\n",
       "\n",
       "    .dataframe thead th {\n",
       "        text-align: right;\n",
       "    }\n",
       "</style>\n",
       "<table border=\"1\" class=\"dataframe\">\n",
       "  <thead>\n",
       "    <tr style=\"text-align: right;\">\n",
       "      <th>일자</th>\n",
       "      <th>4월06일</th>\n",
       "      <th>4월07일</th>\n",
       "      <th>4월08일</th>\n",
       "    </tr>\n",
       "    <tr>\n",
       "      <th>국가명</th>\n",
       "      <th></th>\n",
       "      <th></th>\n",
       "      <th></th>\n",
       "    </tr>\n",
       "  </thead>\n",
       "  <tbody>\n",
       "    <tr>\n",
       "      <th>프랑스</th>\n",
       "      <td>70478</td>\n",
       "      <td>74390</td>\n",
       "      <td>78167</td>\n",
       "    </tr>\n",
       "    <tr>\n",
       "      <th>중국</th>\n",
       "      <td>81708</td>\n",
       "      <td>81740</td>\n",
       "      <td>81802</td>\n",
       "    </tr>\n",
       "    <tr>\n",
       "      <th>영국</th>\n",
       "      <td>47806</td>\n",
       "      <td>51608</td>\n",
       "      <td>55242</td>\n",
       "    </tr>\n",
       "    <tr>\n",
       "      <th>이란</th>\n",
       "      <td>58226</td>\n",
       "      <td>60500</td>\n",
       "      <td>62589</td>\n",
       "    </tr>\n",
       "  </tbody>\n",
       "</table>\n",
       "</div>"
      ],
      "text/plain": [
       "일자   4월06일  4월07일  4월08일\n",
       "국가명                     \n",
       "프랑스  70478  74390  78167\n",
       "중국   81708  81740  81802\n",
       "영국   47806  51608  55242\n",
       "이란   58226  60500  62589"
      ]
     },
     "execution_count": 11,
     "metadata": {},
     "output_type": "execute_result"
    }
   ],
   "source": [
    "COUNTRY = ['프랑스', '중국', '영국', '이란']\n",
    "WHEN = ['4월06일', '4월07일', '4월08일']\n",
    "data = data.loc[COUNTRY, WHEN]\n",
    "data.index.name = '국가명'\n",
    "data.columns.name = '일자'\n",
    "data"
   ]
  },
  {
   "cell_type": "code",
   "execution_count": 13,
   "id": "9996c35d",
   "metadata": {},
   "outputs": [],
   "source": [
    "##### 참고 \n",
    "# 데이터 프레임을 사용하여 막대 그래프를 그려 주는 함수입니다.\n",
    "def MakeBarChart02(chartdata, rotation, title, ylim=None, stacked=False, yticks_interval = 10000):\n",
    "    plt.figure()\n",
    "    # 범례에 제목을 넣으려면 plot() 메소드의 legend 옵션을 사용해야 합니다.\n",
    "    chartdata.plot(kind='bar', rot=rotation, title=title, legend=True, stacked=stacked)\n",
    "\n",
    "    plt.legend(loc='best')\n",
    "\n",
    "    print(chartdata)\n",
    "\n",
    "    if stacked == False :\n",
    "        # max(chartdata.max())은 항목들 값 중에서 최대 값을 의미합니다.\n",
    "        maxlim = (int(max(chartdata.max()) / yticks_interval) + 1) * yticks_interval\n",
    "        # print(maxlim)\n",
    "        values = np.arange(0, maxlim + 1, yticks_interval)\n",
    "        plt.yticks(values, ['%s' % format(val, ',') for val in values])\n",
    "    else : # 누적 막대 그래프\n",
    "        # 국가별 누적 합인 chartdata.sum(axis=1))의 최대 값에 대한 연산이 이루어 져야 합니다.\n",
    "        maxlim = (int(max(chartdata.sum(axis=1)) / yticks_interval) + 1) * yticks_interval\n",
    "        # print(maxlim)\n",
    "        values = np.arange(0, maxlim + 1, yticks_interval)\n",
    "        plt.yticks(values, ['%s' % format(val, ',') for val in values])\n",
    "\n",
    "    # y축의 상하한 값이 주어 지는 경우에만 설정합니다.\n",
    "    if ylim != None :\n",
    "        plt.ylim(ylim)"
   ]
  },
  {
   "cell_type": "code",
   "execution_count": 14,
   "id": "99d5bf4a",
   "metadata": {},
   "outputs": [
    {
     "name": "stdout",
     "output_type": "stream",
     "text": [
      "일자   4월06일  4월07일  4월08일\n",
      "국가명                     \n",
      "프랑스  70478  74390  78167\n",
      "중국   81708  81740  81802\n",
      "영국   47806  51608  55242\n",
      "이란   58226  60500  62589\n"
     ]
    },
    {
     "data": {
      "text/plain": [
       "<Figure size 432x288 with 0 Axes>"
      ]
     },
     "metadata": {},
     "output_type": "display_data"
    },
    {
     "data": {
      "image/png": "[encoded data removed]",
      "text/plain": [
       "<Figure size 432x288 with 1 Axes>"
      ]
     },
     "metadata": {
      "needs_background": "light"
     },
     "output_type": "display_data"
    }
   ],
   "source": [
    "MakeBarChart02(chartdata=data, rotation=0, title='국가별 일별 발생 건수' )"
   ]
  },
  {
   "cell_type": "code",
   "execution_count": 15,
   "id": "3d965159",
   "metadata": {},
   "outputs": [
    {
     "name": "stdout",
     "output_type": "stream",
     "text": [
      "국가명      프랑스     중국     영국     이란\n",
      "일자                               \n",
      "4월06일  70478  81708  47806  58226\n",
      "4월07일  74390  81740  51608  60500\n",
      "4월08일  78167  81802  55242  62589\n"
     ]
    },
    {
     "data": {
      "text/plain": [
       "<Figure size 432x288 with 0 Axes>"
      ]
     },
     "metadata": {},
     "output_type": "display_data"
    },
    {
     "data": {
      "image/png": "[encoded data removed]",
      "text/plain": [
       "<Figure size 432x288 with 1 Axes>"
      ]
     },
     "metadata": {
      "needs_background": "light"
     },
     "output_type": "display_data"
    }
   ],
   "source": [
    "# 전치\n",
    "dataT = data.T\n",
    "MakeBarChart02(chartdata=dataT, rotation=0, title='일별 국가별 발생 건수')"
   ]
  },
  {
   "cell_type": "code",
   "execution_count": null,
   "id": "53aeb755",
   "metadata": {},
   "outputs": [],
   "source": []
  },
  {
   "cell_type": "markdown",
   "id": "5eb745d4",
   "metadata": {},
   "source": [
    "### 일별 국가별 누적 막대 그래프"
   ]
  },
  {
   "cell_type": "code",
   "execution_count": 16,
   "id": "c7f4c388",
   "metadata": {},
   "outputs": [
    {
     "name": "stdout",
     "output_type": "stream",
     "text": [
      "일자   4월06일  4월07일  4월08일\n",
      "국가명                     \n",
      "프랑스  70478  74390  78167\n",
      "중국   81708  81740  81802\n",
      "영국   47806  51608  55242\n",
      "이란   58226  60500  62589\n"
     ]
    },
    {
     "data": {
      "text/plain": [
       "<Figure size 432x288 with 0 Axes>"
      ]
     },
     "metadata": {},
     "output_type": "display_data"
    },
    {
     "data": {
      "image/png": "[encoded data removed]",
      "text/plain": [
       "<Figure size 432x288 with 1 Axes>"
      ]
     },
     "metadata": {
      "needs_background": "light"
     },
     "output_type": "display_data"
    }
   ],
   "source": [
    "ymax = dataT.sum(axis=1)\n",
    "ymaxlimit = ymax.max() + 10\n",
    "\n",
    "MakeBarChart02(chartdata=data, rotation=0, title='국가별 일별 발생 건수(누적)', \n",
    "               ylim=[0, ymaxlimit], stacked=True, yticks_interval=50000)"
   ]
  },
  {
   "cell_type": "code",
   "execution_count": null,
   "id": "caf8d44a",
   "metadata": {},
   "outputs": [],
   "source": []
  },
  {
   "cell_type": "markdown",
   "id": "d9629c4b",
   "metadata": {},
   "source": [
    "### 국가별 일별 누적 가로 막대 그래프"
   ]
  },
  {
   "cell_type": "code",
   "execution_count": 18,
   "id": "de8535db",
   "metadata": {},
   "outputs": [
    {
     "data": {
      "text/plain": [
       "['프랑스', '중국', '영국']"
      ]
     },
     "execution_count": 18,
     "metadata": {},
     "output_type": "execute_result"
    }
   ],
   "source": [
    "data = pd.read_csv('data/주요발생국가주간동향(4월2째주).csv',index_col='국가')\n",
    "three = [item for item in data.index if item in ['프랑스', '영국', '중국']]\n",
    "three"
   ]
  },
  {
   "cell_type": "code",
   "execution_count": 19,
   "id": "bb439315",
   "metadata": {},
   "outputs": [
    {
     "data": {
      "text/html": [
       "<div>\n",
       "<style scoped>\n",
       "    .dataframe tbody tr th:only-of-type {\n",
       "        vertical-align: middle;\n",
       "    }\n",
       "\n",
       "    .dataframe tbody tr th {\n",
       "        vertical-align: top;\n",
       "    }\n",
       "\n",
       "    .dataframe thead th {\n",
       "        text-align: right;\n",
       "    }\n",
       "</style>\n",
       "<table border=\"1\" class=\"dataframe\">\n",
       "  <thead>\n",
       "    <tr style=\"text-align: right;\">\n",
       "      <th></th>\n",
       "      <th>4월06일</th>\n",
       "      <th>4월07일</th>\n",
       "      <th>4월08일</th>\n",
       "      <th>4월09일</th>\n",
       "      <th>4월10일</th>\n",
       "      <th>4월11일</th>\n",
       "      <th>4월12일</th>\n",
       "    </tr>\n",
       "    <tr>\n",
       "      <th>국가</th>\n",
       "      <th></th>\n",
       "      <th></th>\n",
       "      <th></th>\n",
       "      <th></th>\n",
       "      <th></th>\n",
       "      <th></th>\n",
       "      <th></th>\n",
       "    </tr>\n",
       "  </thead>\n",
       "  <tbody>\n",
       "    <tr>\n",
       "      <th>프랑스</th>\n",
       "      <td>70478</td>\n",
       "      <td>74390</td>\n",
       "      <td>78167</td>\n",
       "      <td>82048</td>\n",
       "      <td>86334</td>\n",
       "      <td>90276</td>\n",
       "      <td>93790</td>\n",
       "    </tr>\n",
       "    <tr>\n",
       "      <th>중국</th>\n",
       "      <td>81708</td>\n",
       "      <td>81740</td>\n",
       "      <td>81802</td>\n",
       "      <td>81865</td>\n",
       "      <td>81907</td>\n",
       "      <td>81953</td>\n",
       "      <td>82052</td>\n",
       "    </tr>\n",
       "    <tr>\n",
       "      <th>영국</th>\n",
       "      <td>47806</td>\n",
       "      <td>51608</td>\n",
       "      <td>55242</td>\n",
       "      <td>60733</td>\n",
       "      <td>65077</td>\n",
       "      <td>73758</td>\n",
       "      <td>78991</td>\n",
       "    </tr>\n",
       "  </tbody>\n",
       "</table>\n",
       "</div>"
      ],
      "text/plain": [
       "     4월06일  4월07일  4월08일  4월09일  4월10일  4월11일  4월12일\n",
       "국가                                                  \n",
       "프랑스  70478  74390  78167  82048  86334  90276  93790\n",
       "중국   81708  81740  81802  81865  81907  81953  82052\n",
       "영국   47806  51608  55242  60733  65077  73758  78991"
      ]
     },
     "execution_count": 19,
     "metadata": {},
     "output_type": "execute_result"
    }
   ],
   "source": [
    "data = data.loc[three]\n",
    "data"
   ]
  },
  {
   "cell_type": "code",
   "execution_count": 20,
   "id": "4183aee9",
   "metadata": {},
   "outputs": [
    {
     "data": {
      "text/plain": [
       "['4월06일', '4월07일', '4월08일', '4월09일', '4월10일', '4월11일', '4월12일']"
      ]
     },
     "execution_count": 20,
     "metadata": {},
     "output_type": "execute_result"
    }
   ],
   "source": [
    "column_names = data.columns.tolist()\n",
    "column_names"
   ]
  },
  {
   "cell_type": "code",
   "execution_count": 21,
   "id": "a6fd37c9",
   "metadata": {},
   "outputs": [
    {
     "data": {
      "text/plain": [
       "{'프랑스': array([70478, 74390, 78167, 82048, 86334, 90276, 93790], dtype=int64),\n",
       " '중국': array([81708, 81740, 81802, 81865, 81907, 81953, 82052], dtype=int64),\n",
       " '영국': array([47806, 51608, 55242, 60733, 65077, 73758, 78991], dtype=int64)}"
      ]
     },
     "execution_count": 21,
     "metadata": {},
     "output_type": "execute_result"
    }
   ],
   "source": [
    "# 국가별 numpy 배열을 저장하고 있는 사전\n",
    "chartdata = {}\n",
    "\n",
    "for row in data.index:\n",
    "    # data.loc[row])\n",
    "    # type(row))\n",
    "    chartdata[row] = data.loc[row].values\n",
    "\n",
    "chartdata"
   ]
  },
  {
   "cell_type": "code",
   "execution_count": 23,
   "id": "4d2a382e",
   "metadata": {},
   "outputs": [],
   "source": [
    "def MakeBarChart03(chartdata, column_names):\n",
    "    labels = list(chartdata.keys())\n",
    "    data = np.array(list(chartdata.values()))\n",
    "    data_cum = data.cumsum(axis=1)\n",
    "    category_colors = plt.get_cmap('RdYlGn')(\n",
    "        np.linspace(0.15, 0.85, data.shape[1]))\n",
    "\n",
    "    fig, ax = plt.subplots(figsize=(9.2, 5))\n",
    "    ax.invert_yaxis()\n",
    "    ax.xaxis.set_visible(False)\n",
    "    ax.set_xlim(0, np.sum(data, axis=1).max())\n",
    "\n",
    "    for i, (colname, color) in enumerate(zip(column_names, category_colors)):\n",
    "        widths = data[:, i]\n",
    "        starts = data_cum[:, i] - widths\n",
    "        ax.barh(labels, widths, left=starts, height=0.5,\n",
    "                label=colname, color=color)\n",
    "        xcenters = starts + widths / 2\n",
    "\n",
    "        r, g, b, _ = color\n",
    "        text_color = 'white' if r * g * b < 0.5 else 'darkgrey'\n",
    "        for y, (x, c) in enumerate(zip(xcenters, widths)):\n",
    "            ax.text(x, y, str(int(c)), ha='center', va='center',\n",
    "                    color=text_color)\n",
    "    ax.legend(ncol=len(column_names), bbox_to_anchor=(0, 1),\n",
    "              loc='lower left', fontsize='small')\n",
    "\n",
    "\n",
    "    return fig, ax"
   ]
  },
  {
   "cell_type": "code",
   "execution_count": 24,
   "id": "b670adaa",
   "metadata": {},
   "outputs": [
    {
     "data": {
      "text/plain": [
       "(<Figure size 662.4x360 with 1 Axes>, <AxesSubplot:>)"
      ]
     },
     "execution_count": 24,
     "metadata": {},
     "output_type": "execute_result"
    },
    {
     "data": {
      "image/png": "[encoded data removed]",
      "text/plain": [
       "<Figure size 662.4x360 with 1 Axes>"
      ]
     },
     "metadata": {
      "needs_background": "light"
     },
     "output_type": "display_data"
    }
   ],
   "source": [
    "MakeBarChart03(chartdata, column_names)"
   ]
  },
  {
   "cell_type": "code",
   "execution_count": null,
   "id": "7d07ca99",
   "metadata": {},
   "outputs": [],
   "source": []
  },
  {
   "cell_type": "markdown",
   "id": "233a98c9",
   "metadata": {},
   "source": [
    "### 서브 플로팅 사용하기"
   ]
  },
  {
   "cell_type": "code",
   "execution_count": 25,
   "id": "6795423a",
   "metadata": {},
   "outputs": [],
   "source": [
    "def MakeBarChart04(chartdata, suptitle):\n",
    "    fig, axes = plt.subplots(nrows=2, ncols=1)  # 2행 1열\n",
    "\n",
    "    chartdata.plot(kind='bar', ax=axes[0], rot=0, alpha=0.7)\n",
    "\n",
    "    # color='m'은 자홍색\n",
    "    chartdata.plot(kind='barh', ax=axes[1], color='m', alpha=0.7)\n",
    "\n",
    "    fig.suptitle(suptitle)  # sup : super"
   ]
  },
  {
   "cell_type": "code",
   "execution_count": 26,
   "id": "901cfd73",
   "metadata": {},
   "outputs": [
    {
     "data": {
      "text/html": [
       "<div>\n",
       "<style scoped>\n",
       "    .dataframe tbody tr th:only-of-type {\n",
       "        vertical-align: middle;\n",
       "    }\n",
       "\n",
       "    .dataframe tbody tr th {\n",
       "        vertical-align: top;\n",
       "    }\n",
       "\n",
       "    .dataframe thead th {\n",
       "        text-align: right;\n",
       "    }\n",
       "</style>\n",
       "<table border=\"1\" class=\"dataframe\">\n",
       "  <thead>\n",
       "    <tr style=\"text-align: right;\">\n",
       "      <th>국가</th>\n",
       "      <th>미국</th>\n",
       "    </tr>\n",
       "  </thead>\n",
       "  <tbody>\n",
       "    <tr>\n",
       "      <th>4월06일</th>\n",
       "      <td>335524</td>\n",
       "    </tr>\n",
       "    <tr>\n",
       "      <th>4월07일</th>\n",
       "      <td>364723</td>\n",
       "    </tr>\n",
       "    <tr>\n",
       "      <th>4월08일</th>\n",
       "      <td>387547</td>\n",
       "    </tr>\n",
       "    <tr>\n",
       "      <th>4월09일</th>\n",
       "      <td>424945</td>\n",
       "    </tr>\n",
       "    <tr>\n",
       "      <th>4월10일</th>\n",
       "      <td>461437</td>\n",
       "    </tr>\n",
       "    <tr>\n",
       "      <th>4월11일</th>\n",
       "      <td>495535</td>\n",
       "    </tr>\n",
       "    <tr>\n",
       "      <th>4월12일</th>\n",
       "      <td>524903</td>\n",
       "    </tr>\n",
       "  </tbody>\n",
       "</table>\n",
       "</div>"
      ],
      "text/plain": [
       "국가         미국\n",
       "4월06일  335524\n",
       "4월07일  364723\n",
       "4월08일  387547\n",
       "4월09일  424945\n",
       "4월10일  461437\n",
       "4월11일  495535\n",
       "4월12일  524903"
      ]
     },
     "execution_count": 26,
     "metadata": {},
     "output_type": "execute_result"
    }
   ],
   "source": [
    "data = pd.read_csv('data/주요발생국가주간동향(4월2째주).csv',index_col='국가')\n",
    "only_usa = [item for item in data.index if item in ['미국']]\n",
    "\n",
    "data = data.loc[only_usa].T\n",
    "data"
   ]
  },
  {
   "cell_type": "code",
   "execution_count": 27,
   "id": "c0839d99",
   "metadata": {},
   "outputs": [
    {
     "data": {
      "image/png": "[encoded data removed]",
      "text/plain": [
       "<Figure size 432x288 with 2 Axes>"
      ]
     },
     "metadata": {
      "needs_background": "light"
     },
     "output_type": "display_data"
    }
   ],
   "source": [
    "MakeBarChart04(chartdata=data, suptitle='서브 플로팅')"
   ]
  },
  {
   "cell_type": "code",
   "execution_count": null,
   "id": "a44968f6",
   "metadata": {},
   "outputs": [],
   "source": []
  },
  {
   "cell_type": "markdown",
   "id": "a63753ae",
   "metadata": {},
   "source": [
    "### 테이블이 있는 막대 그래프"
   ]
  },
  {
   "cell_type": "code",
   "execution_count": 28,
   "id": "4495fc33",
   "metadata": {},
   "outputs": [],
   "source": [
    "data = pd.read_csv('data/주요발생국가주간동향(4월2째주).csv',index_col='국가')"
   ]
  },
  {
   "cell_type": "code",
   "execution_count": 29,
   "id": "885f717d",
   "metadata": {},
   "outputs": [
    {
     "data": {
      "text/html": [
       "<div>\n",
       "<style scoped>\n",
       "    .dataframe tbody tr th:only-of-type {\n",
       "        vertical-align: middle;\n",
       "    }\n",
       "\n",
       "    .dataframe tbody tr th {\n",
       "        vertical-align: top;\n",
       "    }\n",
       "\n",
       "    .dataframe thead th {\n",
       "        text-align: right;\n",
       "    }\n",
       "</style>\n",
       "<table border=\"1\" class=\"dataframe\">\n",
       "  <thead>\n",
       "    <tr style=\"text-align: right;\">\n",
       "      <th></th>\n",
       "      <th>4월06일</th>\n",
       "      <th>4월07일</th>\n",
       "      <th>4월08일</th>\n",
       "      <th>4월09일</th>\n",
       "      <th>4월10일</th>\n",
       "    </tr>\n",
       "    <tr>\n",
       "      <th>국가</th>\n",
       "      <th></th>\n",
       "      <th></th>\n",
       "      <th></th>\n",
       "      <th></th>\n",
       "      <th></th>\n",
       "    </tr>\n",
       "  </thead>\n",
       "  <tbody>\n",
       "    <tr>\n",
       "      <th>스페인</th>\n",
       "      <td>130709</td>\n",
       "      <td>135032</td>\n",
       "      <td>140510</td>\n",
       "      <td>146690</td>\n",
       "      <td>152446</td>\n",
       "    </tr>\n",
       "    <tr>\n",
       "      <th>프랑스</th>\n",
       "      <td>70478</td>\n",
       "      <td>74390</td>\n",
       "      <td>78167</td>\n",
       "      <td>82048</td>\n",
       "      <td>86334</td>\n",
       "    </tr>\n",
       "    <tr>\n",
       "      <th>중국</th>\n",
       "      <td>81708</td>\n",
       "      <td>81740</td>\n",
       "      <td>81802</td>\n",
       "      <td>81865</td>\n",
       "      <td>81907</td>\n",
       "    </tr>\n",
       "    <tr>\n",
       "      <th>영국</th>\n",
       "      <td>47806</td>\n",
       "      <td>51608</td>\n",
       "      <td>55242</td>\n",
       "      <td>60733</td>\n",
       "      <td>65077</td>\n",
       "    </tr>\n",
       "    <tr>\n",
       "      <th>이란</th>\n",
       "      <td>58226</td>\n",
       "      <td>60500</td>\n",
       "      <td>62589</td>\n",
       "      <td>64586</td>\n",
       "      <td>66220</td>\n",
       "    </tr>\n",
       "  </tbody>\n",
       "</table>\n",
       "</div>"
      ],
      "text/plain": [
       "      4월06일   4월07일   4월08일   4월09일   4월10일\n",
       "국가                                         \n",
       "스페인  130709  135032  140510  146690  152446\n",
       "프랑스   70478   74390   78167   82048   86334\n",
       "중국    81708   81740   81802   81865   81907\n",
       "영국    47806   51608   55242   60733   65077\n",
       "이란    58226   60500   62589   64586   66220"
      ]
     },
     "execution_count": 29,
     "metadata": {},
     "output_type": "execute_result"
    }
   ],
   "source": [
    "COUNTRY = ['스페인', '프랑스', '중국', '영국', '이란']\n",
    "WHEN = ['4월06일', '4월07일', '4월08일', '4월09일', '4월10일']\n",
    "data = data.loc[COUNTRY, WHEN]\n",
    "data"
   ]
  },
  {
   "cell_type": "code",
   "execution_count": 30,
   "id": "8ad183cf",
   "metadata": {},
   "outputs": [
    {
     "data": {
      "text/plain": [
       "['스페인', '프랑스', '중국', '영국', '이란']"
      ]
     },
     "execution_count": 30,
     "metadata": {},
     "output_type": "execute_result"
    }
   ],
   "source": [
    "# rows : 테이블에 보이는 행 색인 내용\n",
    "rows = [x for x in data.index]\n",
    "rows"
   ]
  },
  {
   "cell_type": "code",
   "execution_count": 31,
   "id": "451dc739",
   "metadata": {},
   "outputs": [
    {
     "data": {
      "text/plain": [
       "['4월06일', '4월07일', '4월08일', '4월09일', '4월10일']"
      ]
     },
     "execution_count": 31,
     "metadata": {},
     "output_type": "execute_result"
    }
   ],
   "source": [
    "# columns : 테이블에 보이는 열 색인 내용\n",
    "columns = [x for x in data.columns]\n",
    "columns"
   ]
  },
  {
   "cell_type": "code",
   "execution_count": 32,
   "id": "ef306f0e",
   "metadata": {},
   "outputs": [
    {
     "data": {
      "text/plain": [
       "5"
      ]
     },
     "execution_count": 32,
     "metadata": {},
     "output_type": "execute_result"
    }
   ],
   "source": [
    "n_rows = len(data) # 행 수\n",
    "n_rows"
   ]
  },
  {
   "cell_type": "code",
   "execution_count": 33,
   "id": "856e9346",
   "metadata": {},
   "outputs": [
    {
     "data": {
      "text/plain": [
       "array([0.3, 1.3, 2.3, 3.3, 4.3])"
      ]
     },
     "execution_count": 33,
     "metadata": {},
     "output_type": "execute_result"
    }
   ],
   "source": [
    "LEFT_MARGIN = 0.3\n",
    "index = np.arange(len(columns)) + LEFT_MARGIN\n",
    "index"
   ]
  },
  {
   "cell_type": "code",
   "execution_count": 34,
   "id": "9313dbcf",
   "metadata": {},
   "outputs": [
    {
     "data": {
      "text/plain": [
       "array([0., 0., 0., 0., 0.])"
      ]
     },
     "execution_count": 34,
     "metadata": {},
     "output_type": "execute_result"
    }
   ],
   "source": [
    "bar_width = 1 - 2 * LEFT_MARGIN # 막대 그래프의 너비\n",
    "\n",
    "# Initialize the vertical-offset for the stacked bar chart.\n",
    "y_offset = np.zeros(len(columns))\n",
    "y_offset"
   ]
  },
  {
   "cell_type": "code",
   "execution_count": 35,
   "id": "aaad0aa4",
   "metadata": {},
   "outputs": [
    {
     "name": "stdout",
     "output_type": "stream",
     "text": [
      "[130709, 135032, 140510, 146690, 152446]\n",
      "[130709. 135032. 140510. 146690. 152446.]\n",
      "[70478, 74390, 78167, 82048, 86334]\n",
      "[201187. 209422. 218677. 228738. 238780.]\n",
      "[81708, 81740, 81802, 81865, 81907]\n",
      "[282895. 291162. 300479. 310603. 320687.]\n",
      "[47806, 51608, 55242, 60733, 65077]\n",
      "[330701. 342770. 355721. 371336. 385764.]\n",
      "[58226, 60500, 62589, 64586, 66220]\n",
      "[388927. 403270. 418310. 435922. 451984.]\n"
     ]
    },
    {
     "data": {
      "text/plain": [
       "Text(0.5, 1.0, '테이블이 있는 막대 그래프')"
      ]
     },
     "execution_count": 35,
     "metadata": {},
     "output_type": "execute_result"
    },
    {
     "data": {
      "image/png": "[encoded data removed]",
      "text/plain": [
       "<Figure size 720x432 with 1 Axes>"
      ]
     },
     "metadata": {
      "needs_background": "light"
     },
     "output_type": "display_data"
    }
   ],
   "source": [
    "# Plot bars and create text labels for the table\n",
    "cell_text = [] # 표에 들어 가는 텍스트 내용\n",
    "plt.figure(figsize=(10, 6))\n",
    "\n",
    "for row in data.index:\n",
    "    # print(data[row])\n",
    "    chartdata = data.loc[row].tolist()\n",
    "    print(chartdata)\n",
    "\n",
    "    # bottom\n",
    "    plt.bar(index, chartdata, bar_width, bottom=y_offset, label=row)\n",
    "\n",
    "    # y_offset에는 열 단위로 누적된 값이 들어 갑니다.\n",
    "    y_offset = y_offset + chartdata\n",
    "    # y_offset = chartdata\n",
    "    print(y_offset)\n",
    "\n",
    "    cell_text.append([format(x, ',') for x in chartdata])\n",
    "    # cell_text.append([format(x, ',') for x in y_offset])\n",
    "# end for\n",
    "\n",
    "the_table = plt.table(cellText=cell_text, rowLabels=rows, colLabels=columns, loc='bottom')\n",
    "\n",
    "plt.legend(loc='best')\n",
    "# Adjust layout to make room for the table:\n",
    "plt.subplots_adjust(left=0.2, bottom=0.2)\n",
    "\n",
    "plt.ylabel(\"발생 건수\")\n",
    "\n",
    "# values : y축의 눈금의 상한 값과 간격 지정하기\n",
    "YTICKS_INTERVAL = 50000 # 단위 눈금 간격\n",
    "maxlim = (int(y_offset.max()/YTICKS_INTERVAL)+1)*YTICKS_INTERVAL\n",
    "maxlim\n",
    "\n",
    "values = np.arange(0, maxlim, YTICKS_INTERVAL)\n",
    "\n",
    "plt.yticks(values, ['%s' % format(val, ',') for val in values])\n",
    "plt.xticks([])\n",
    "plt.title('테이블이 있는 막대 그래프')"
   ]
  },
  {
   "cell_type": "code",
   "execution_count": null,
   "id": "833d2738",
   "metadata": {},
   "outputs": [],
   "source": []
  }
 ],
 "metadata": {
  "kernelspec": {
   "display_name": "Python 3 (ipykernel)",
   "language": "python",
   "name": "python3"
  },
  "language_info": {
   "codemirror_mode": {
    "name": "ipython",
    "version": 3
   },
   "file_extension": ".py",
   "mimetype": "text/x-python",
   "name": "python",
   "nbconvert_exporter": "python",
   "pygments_lexer": "ipython3",
   "version": "3.9.7"
  }
 },
 "nbformat": 4,
 "nbformat_minor": 5
}
